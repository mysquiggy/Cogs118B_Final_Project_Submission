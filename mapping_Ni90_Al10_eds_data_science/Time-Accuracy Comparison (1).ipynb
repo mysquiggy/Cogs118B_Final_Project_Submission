{
 "cells": [
  {
   "cell_type": "markdown",
   "id": "6f84efb9",
   "metadata": {},
   "source": [
    "# Comparison of Clustering Algorithms"
   ]
  },
  {
   "cell_type": "markdown",
   "id": "d26048e4",
   "metadata": {},
   "source": [
    "Data Pre-Processing"
   ]
  },
  {
   "cell_type": "code",
   "execution_count": 1,
   "id": "31982dcf",
   "metadata": {
    "scrolled": true
   },
   "outputs": [],
   "source": [
    "# Necessary libraries\n",
    "import pandas as pd\n",
    "import numpy as np\n",
    "import matplotlib.pyplot as plt\n",
    "import matplotlib\n",
    "from sklearn.cluster import KMeans\n",
    "from sklearn.cluster import SpectralClustering\n",
    "from sklearn.cluster import DBSCAN\n",
    "import hdbscan\n",
    "import time"
   ]
  },
  {
   "cell_type": "code",
   "execution_count": 2,
   "id": "2393470c",
   "metadata": {},
   "outputs": [],
   "source": [
    "def colormap(labels, method):\n",
    "    \"\"\" Produces colormap of material segmented by cluster \"\"\"\n",
    "\n",
    "    labels = labels.reshape(69, 100)\n",
    "    colors = 'lime red'.split()\n",
    "    cmap = matplotlib.colors.ListedColormap(colors, name='colors', N=None)\n",
    "\n",
    "    plt.imshow(labels, cmap=cmap)\n",
    "    plt.axis('off')\n",
    "    plt.title(method)\n",
    "    plt.show()"
   ]
  },
  {
   "cell_type": "code",
   "execution_count": 3,
   "id": "e7fc4b83",
   "metadata": {},
   "outputs": [],
   "source": [
    "# Quantified chemistry of materials through raster imaging\n",
    "ni_wt = pd.read_csv('Ni_Wt_pct.csv', header = None).dropna(axis = 1).to_numpy()\n",
    "ni_at = pd.read_csv('Ni At.csv', header = None).dropna(axis = 1).to_numpy()\n",
    "al_wt = pd.read_csv('Al_Wt_pct.csv', header = None).dropna(axis = 1).to_numpy()\n",
    "al_at = pd.read_csv('Al At.csv', header = None).dropna(axis = 1).to_numpy()"
   ]
  },
  {
   "cell_type": "code",
   "execution_count": 4,
   "id": "53a6fcd0",
   "metadata": {},
   "outputs": [],
   "source": [
    "# Combine dataframes into an array with a value of each for each pixel\n",
    "wt_at = []\n",
    "for i in range(len(ni_at)):\n",
    "    concat = np.concatenate([ni_wt[i][:,None], ni_at[i][:,None], al_wt[i][:,None], \n",
    "                             al_at[i][:,None]], axis = 1)\n",
    "    wt_at.append(concat)"
   ]
  },
  {
   "cell_type": "code",
   "execution_count": 5,
   "id": "01820c67",
   "metadata": {},
   "outputs": [
    {
     "data": {
      "text/plain": [
       "(6900, 4)"
      ]
     },
     "execution_count": 5,
     "metadata": {},
     "output_type": "execute_result"
    }
   ],
   "source": [
    "# Convert to 2-D array for clustering\n",
    "wt_at = np.array(wt_at)\n",
    "\n",
    "length = wt_at.shape[0]\n",
    "width = wt_at.shape[1]\n",
    "dims_both = wt_at.shape[2]\n",
    "\n",
    "wt_at = wt_at.reshape(length * width, dims_both)\n",
    "wt_at.shape"
   ]
  },
  {
   "cell_type": "code",
   "execution_count": 20,
   "id": "d158d9d4",
   "metadata": {},
   "outputs": [],
   "source": [
    "methods = ['K-Means','Spectral Clustering', 'DBSCAN', 'HDBSCAN']\n",
    "times = pd.DataFrame(columns = methods)"
   ]
  },
  {
   "cell_type": "code",
   "execution_count": 21,
   "id": "a5dcfdd5",
   "metadata": {
    "scrolled": true
   },
   "outputs": [],
   "source": [
    "# Parameters for DBSCAN\n",
    "eps = 0.10123208285914496\n",
    "min_samples = 20\n",
    "\n",
    "for i in range(10):\n",
    "    \n",
    "    row = dict.fromkeys(['K-Means','Spectral Clustering', 'DBSCAN', 'HDBSCAN'])\n",
    "    \n",
    "    start_time = time.time()\n",
    "    KMeans(n_clusters = 2).fit(wt_at)\n",
    "    end_time = time.time()\n",
    "    row['K-Means'] = end_time - start_time\n",
    "    \n",
    "    start_time = time.time()\n",
    "    SpectralClustering(n_clusters = 2, assign_labels='discretize').fit(wt_at)\n",
    "    end_time = time.time()\n",
    "    row['Spectral Clustering'] = end_time - start_time\n",
    "    \n",
    "    start_time = time.time()\n",
    "    clusters = DBSCAN(eps = eps, min_samples = min_samples).fit(wt_at)\n",
    "    end_time = time.time()\n",
    "    row['DBSCAN'] = end_time - start_time\n",
    "    \n",
    "    start_time = time.time()\n",
    "    hdbscan.HDBSCAN(min_cluster_size=20).fit_predict(wt_at)\n",
    "    end_time = time.time()\n",
    "    row['HDBSCAN'] = end_time - start_time\n",
    "    \n",
    "    times = times.append(row, ignore_index=True)"
   ]
  },
  {
   "cell_type": "code",
   "execution_count": 25,
   "id": "59bdee25",
   "metadata": {},
   "outputs": [
    {
     "data": {
      "text/html": [
       "<div>\n",
       "<style scoped>\n",
       "    .dataframe tbody tr th:only-of-type {\n",
       "        vertical-align: middle;\n",
       "    }\n",
       "\n",
       "    .dataframe tbody tr th {\n",
       "        vertical-align: top;\n",
       "    }\n",
       "\n",
       "    .dataframe thead th {\n",
       "        text-align: right;\n",
       "    }\n",
       "</style>\n",
       "<table border=\"1\" class=\"dataframe\">\n",
       "  <thead>\n",
       "    <tr style=\"text-align: right;\">\n",
       "      <th></th>\n",
       "      <th>K-Means</th>\n",
       "      <th>Spectral Clustering</th>\n",
       "      <th>DBSCAN</th>\n",
       "      <th>HDBSCAN</th>\n",
       "    </tr>\n",
       "  </thead>\n",
       "  <tbody>\n",
       "    <tr>\n",
       "      <th>0</th>\n",
       "      <td>0.264087</td>\n",
       "      <td>16.648862</td>\n",
       "      <td>0.080520</td>\n",
       "      <td>0.117738</td>\n",
       "    </tr>\n",
       "    <tr>\n",
       "      <th>1</th>\n",
       "      <td>0.308784</td>\n",
       "      <td>12.810223</td>\n",
       "      <td>0.087717</td>\n",
       "      <td>0.127308</td>\n",
       "    </tr>\n",
       "    <tr>\n",
       "      <th>2</th>\n",
       "      <td>0.093524</td>\n",
       "      <td>8.777022</td>\n",
       "      <td>0.082806</td>\n",
       "      <td>0.123263</td>\n",
       "    </tr>\n",
       "    <tr>\n",
       "      <th>3</th>\n",
       "      <td>0.093295</td>\n",
       "      <td>9.026856</td>\n",
       "      <td>0.088324</td>\n",
       "      <td>0.115889</td>\n",
       "    </tr>\n",
       "    <tr>\n",
       "      <th>4</th>\n",
       "      <td>0.099703</td>\n",
       "      <td>9.019300</td>\n",
       "      <td>0.084388</td>\n",
       "      <td>0.114184</td>\n",
       "    </tr>\n",
       "    <tr>\n",
       "      <th>5</th>\n",
       "      <td>0.085275</td>\n",
       "      <td>8.700362</td>\n",
       "      <td>0.081725</td>\n",
       "      <td>0.115255</td>\n",
       "    </tr>\n",
       "    <tr>\n",
       "      <th>6</th>\n",
       "      <td>0.093353</td>\n",
       "      <td>8.654968</td>\n",
       "      <td>0.079735</td>\n",
       "      <td>0.113173</td>\n",
       "    </tr>\n",
       "    <tr>\n",
       "      <th>7</th>\n",
       "      <td>0.095550</td>\n",
       "      <td>8.565844</td>\n",
       "      <td>0.081886</td>\n",
       "      <td>0.117974</td>\n",
       "    </tr>\n",
       "    <tr>\n",
       "      <th>8</th>\n",
       "      <td>0.090697</td>\n",
       "      <td>8.833129</td>\n",
       "      <td>0.083175</td>\n",
       "      <td>0.115441</td>\n",
       "    </tr>\n",
       "    <tr>\n",
       "      <th>9</th>\n",
       "      <td>0.092301</td>\n",
       "      <td>8.560947</td>\n",
       "      <td>0.076398</td>\n",
       "      <td>0.117084</td>\n",
       "    </tr>\n",
       "  </tbody>\n",
       "</table>\n",
       "</div>"
      ],
      "text/plain": [
       "    K-Means  Spectral Clustering    DBSCAN   HDBSCAN\n",
       "0  0.264087            16.648862  0.080520  0.117738\n",
       "1  0.308784            12.810223  0.087717  0.127308\n",
       "2  0.093524             8.777022  0.082806  0.123263\n",
       "3  0.093295             9.026856  0.088324  0.115889\n",
       "4  0.099703             9.019300  0.084388  0.114184\n",
       "5  0.085275             8.700362  0.081725  0.115255\n",
       "6  0.093353             8.654968  0.079735  0.113173\n",
       "7  0.095550             8.565844  0.081886  0.117974\n",
       "8  0.090697             8.833129  0.083175  0.115441\n",
       "9  0.092301             8.560947  0.076398  0.117084"
      ]
     },
     "execution_count": 25,
     "metadata": {},
     "output_type": "execute_result"
    }
   ],
   "source": [
    "times"
   ]
  },
  {
   "cell_type": "code",
   "execution_count": 26,
   "id": "fff61e73",
   "metadata": {},
   "outputs": [
    {
     "data": {
      "text/plain": [
       "[0.13165688514709473,\n",
       " 9.959751296043397,\n",
       " 0.08266739845275879,\n",
       " 0.11773087978363037]"
      ]
     },
     "execution_count": 26,
     "metadata": {},
     "output_type": "execute_result"
    }
   ],
   "source": [
    "mean_times = [np.mean(times['K-Means']), np.mean(times['Spectral Clustering']), np.mean(times['DBSCAN']), np.mean(times['HDBSCAN'])]\n",
    "mean_times"
   ]
  },
  {
   "cell_type": "code",
   "execution_count": 29,
   "id": "eeee43fb",
   "metadata": {},
   "outputs": [
    {
     "data": {
      "text/plain": [
       "Text(0, 0.5, 'Seconds')"
      ]
     },
     "execution_count": 29,
     "metadata": {},
     "output_type": "execute_result"
    },
    {
     "data": {
      "image/png": "[encoded data removed]",
      "text/plain": [
       "<Figure size 432x288 with 1 Axes>"
      ]
     },
     "metadata": {
      "needs_background": "light"
     },
     "output_type": "display_data"
    }
   ],
   "source": [
    "plt.bar(methods, mean_times, color ='blue', width = 0.4)\n",
    "plt.ylabel('Seconds')"
   ]
  },
  {
   "cell_type": "code",
   "execution_count": null,
   "id": "5f330f35",
   "metadata": {},
   "outputs": [],
   "source": []
  },
  {
   "cell_type": "code",
   "execution_count": null,
   "id": "74661e83",
   "metadata": {},
   "outputs": [],
   "source": []
  },
  {
   "cell_type": "code",
   "execution_count": null,
   "id": "1cf91b09",
   "metadata": {},
   "outputs": [],
   "source": []
  },
  {
   "cell_type": "code",
   "execution_count": null,
   "id": "336386ca",
   "metadata": {},
   "outputs": [],
   "source": []
  },
  {
   "cell_type": "code",
   "execution_count": null,
   "id": "aaffb818",
   "metadata": {},
   "outputs": [],
   "source": []
  },
  {
   "cell_type": "code",
   "execution_count": null,
   "id": "3e843788",
   "metadata": {},
   "outputs": [],
   "source": []
  },
  {
   "cell_type": "code",
   "execution_count": 12,
   "id": "4c8fceb5",
   "metadata": {},
   "outputs": [],
   "source": [
    "clusters = KMeans(n_clusters = 2).fit(wt_at)"
   ]
  },
  {
   "cell_type": "code",
   "execution_count": 13,
   "id": "5dd82fe3",
   "metadata": {},
   "outputs": [
    {
     "data": {
      "image/png": "[encoded data removed]",
      "text/plain": [
       "<Figure size 432x288 with 1 Axes>"
      ]
     },
     "metadata": {
      "needs_background": "light"
     },
     "output_type": "display_data"
    }
   ],
   "source": [
    "colormap(clusters.labels_, 'K-Means')"
   ]
  },
  {
   "cell_type": "code",
   "execution_count": 14,
   "id": "a93e0860",
   "metadata": {},
   "outputs": [],
   "source": [
    "clusters = SpectralClustering(n_clusters = 2, assign_labels='discretize').fit(wt_at)"
   ]
  },
  {
   "cell_type": "code",
   "execution_count": 15,
   "id": "6ea7fd4b",
   "metadata": {
    "scrolled": true
   },
   "outputs": [
    {
     "data": {
      "image/png": "[encoded data removed]",
      "text/plain": [
       "<Figure size 432x288 with 1 Axes>"
      ]
     },
     "metadata": {
      "needs_background": "light"
     },
     "output_type": "display_data"
    }
   ],
   "source": [
    "colormap(clusters.labels_, 'Spectral Clustering')"
   ]
  },
  {
   "cell_type": "code",
   "execution_count": 16,
   "id": "5a5a6ce9",
   "metadata": {},
   "outputs": [],
   "source": [
    "# Predetermined for decent accuracy\n",
    "eps = 0.10123208285914496 \n",
    "min_samples = 20\n",
    "\n",
    "clusters = DBSCAN(eps = eps, min_samples = 20).fit(wt_at)"
   ]
  },
  {
   "cell_type": "code",
   "execution_count": 17,
   "id": "afd82b88",
   "metadata": {},
   "outputs": [
    {
     "data": {
      "image/png": "[encoded data removed]",
      "text/plain": [
       "<Figure size 432x288 with 1 Axes>"
      ]
     },
     "metadata": {
      "needs_background": "light"
     },
     "output_type": "display_data"
    }
   ],
   "source": [
    "colormap(clusters.labels_, 'DBSCAN')"
   ]
  },
  {
   "cell_type": "code",
   "execution_count": 18,
   "id": "2e4e1dcd",
   "metadata": {},
   "outputs": [],
   "source": [
    "labels = hdbscan.HDBSCAN(min_cluster_size=20).fit_predict(wt_at)"
   ]
  },
  {
   "cell_type": "code",
   "execution_count": 19,
   "id": "9441fa87",
   "metadata": {
    "scrolled": true
   },
   "outputs": [
    {
     "data": {
      "image/png": "[encoded data removed]",
      "text/plain": [
       "<Figure size 432x288 with 1 Axes>"
      ]
     },
     "metadata": {
      "needs_background": "light"
     },
     "output_type": "display_data"
    }
   ],
   "source": [
    "colormap(labels, 'HDBSCAN')"
   ]
  },
  {
   "cell_type": "code",
   "execution_count": null,
   "id": "0d4e6fce",
   "metadata": {},
   "outputs": [],
   "source": []
  }
 ],
 "metadata": {
  "interpreter": {
   "hash": "e348f125b6f91a14eca7d5249f64a17f3ef476ef6da90e21206c2cb49670b48b"
  },
  "kernelspec": {
   "display_name": "Python 3 (clean)",
   "language": "python",
   "name": "python3"
  },
  "language_info": {
   "codemirror_mode": {
    "name": "ipython",
    "version": 3
   },
   "file_extension": ".py",
   "mimetype": "text/x-python",
   "name": "python",
   "nbconvert_exporter": "python",
   "pygments_lexer": "ipython3",
   "version": "3.8.3"
  }
 },
 "nbformat": 4,
 "nbformat_minor": 5
}
